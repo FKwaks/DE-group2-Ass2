{
 "cells": [
  {
   "cell_type": "code",
   "execution_count": null,
   "metadata": {},
   "outputs": [],
   "source": [
    "from __future__ import absolute_import\n",
    "from vaderSentiment.vaderSentiment import SentimentIntensityAnalyzer \n",
    "import argparse\n",
    "import csv\n",
    "import io\n",
    "import logging\n",
    "import pandas as pd\n",
    "\n",
    "def get_csv_reader(readable_file = 'Data/reviews.csv'):\n",
    "    field_list = ['date', 'comments']\n",
    "    # Open a channel to read the file from GCS\n",
    "    #gcs_file = beam.io.filesystems.FileSystems.open(readable_file)\n",
    "    dataframe = pd.read_csv(readable_file,  error_bad_lines=False)\n",
    "    # Return the csv reader\n",
    "    return dataframe #csv.DictReader(io.TextIOWrapper(gcs_file), field_list)\n",
    "dataframe = get_csv_reader()"
   ]
  },
  {
   "cell_type": "code",
   "execution_count": null,
   "metadata": {},
   "outputs": [],
   "source": [
    "def calculate_sentiment(entry):\n",
    "    sid_obj = SentimentIntensityAnalyzer() \n",
    "    if (type(entry) != str and math.isnan(entry)):\n",
    "        return -55\n",
    "    opinion = sid_obj.polarity_scores(entry)\n",
    "    return opinion['compound']\n",
    "\n",
    "\n",
    "data['comments'] = data['comments'].apply(calculate_sentiment)\n",
    "data = data[data['comments'] != -55]\n",
    "data = data.groupby('date')['comments'].mean()"
   ]
  },
  {
   "cell_type": "code",
   "execution_count": null,
   "metadata": {},
   "outputs": [],
   "source": [
    "class MyPredictDoFn(beam.DoFn):\n",
    "\n",
    "    def __init__(self):\n",
    "        self._model = SentimentIntensityAnalyzer()\n",
    "        self.entry = None\n",
    "        \n",
    "    def calculate_sentiment(self, entry):\n",
    "        sid_obj = SentimentIntensityAnalyzer() \n",
    "        if (type(entry) != str and math.isnan(entry)):\n",
    "            return -55\n",
    "            opinion = sid_obj.polarity_scores(entry)\n",
    "        return opinion['compound']\n",
    "\n",
    "    def process(self, elements, **kwargs):\n",
    "        #for line in elements:\n",
    "         #   print(line)\n",
    "        df = pd.DataFrame(elements)\n",
    "        #print(df)\n",
    "        #df = df.drop('class', 1)\n",
    "        # df = pd.DataFrame.from_dict(elements,\n",
    "        #                             orient=\"index\").transpose().fillna(0)\n",
    "        #df = df.apply(pd.to_numeric)\n",
    "        sentiment_dict = []\n",
    "        \n",
    "        for i in len(df):\n",
    "            sid_obj.polarity_scores(sentence) \n",
    "        \n",
    "            sentiment_dict = sid_obj.polarity_scores(sentence) \n",
    "    \n",
    "        text_out = {\n",
    "            \"Sentimental Compound value:\": sentiment_dict['compound']\n",
    "        }\n",
    "        val_set2 = df.copy()\n",
    "        logging.info(val_set2)\n",
    "        result = self._model.predict(df)\n",
    "        y_classes = result.argmax(axis=-1)\n",
    "        val_set2['class'] = y_classes.tolist()\n",
    "        dic = val_set2.to_dict(orient='records')\n",
    "        return [dic]"
   ]
  }
 ],
 "metadata": {
  "kernelspec": {
   "display_name": "Python 3",
   "language": "python",
   "name": "python3"
  },
  "language_info": {
   "codemirror_mode": {
    "name": "ipython",
    "version": 3
   },
   "file_extension": ".py",
   "mimetype": "text/x-python",
   "name": "python",
   "nbconvert_exporter": "python",
   "pygments_lexer": "ipython3",
   "version": "3.8.3"
  }
 },
 "nbformat": 4,
 "nbformat_minor": 4
}
